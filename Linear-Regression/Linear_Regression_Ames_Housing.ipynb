{
 "cells": [
  {
   "cell_type": "markdown",
   "metadata": {},
   "source": [
    "# Linear Regression from Scratch\n",
    "\n",
    "In this exercise, we use an abridged version of the Ames housing data to create a linear regression from scratch. \n",
    "\n",
    "You can download the modified data from my Github repo. \n",
    "\n",
    "[Ames Housing Dataset, Modified](https://github.com/hjhuney/Machine-Learning-Algorithms/blob/master/Data/ames_housing_test_abridged.csv)\n",
    "\n",
    "Either click on the \"Raw\" version and copy all data, or download the zip file of the repo, and go into the \"Data\" folder to find \"ames_housing_test_abridged.csv\". \n",
    "\n",
    "I have made certain feature transformations which help improve the predicative power of the dataset. \n",
    "\n",
    "You can download the original data at Kaggle. \n",
    "\n",
    "[House Prices: Advanced Regression Techniques](https://www.kaggle.com/c/house-prices-advanced-regression-techniques)\n"
   ]
  },
  {
   "cell_type": "markdown",
   "metadata": {},
   "source": [
    "# Imports Libraries and Set Preferences"
   ]
  },
  {
   "cell_type": "code",
   "execution_count": 500,
   "metadata": {},
   "outputs": [
    {
     "name": "stdout",
     "output_type": "stream",
     "text": [
      "Warnings will be ignored!\n"
     ]
    }
   ],
   "source": [
    "# data science libraries\n",
    "import pandas as pd\n",
    "import numpy as np\n",
    "\n",
    "# linear regression\n",
    "from sklearn.linear_model import LinearRegression\n",
    "\n",
    "# scoring\n",
    "from sklearn.metrics import mean_squared_error\n",
    "\n",
    "# visualization libraries\n",
    "import altair as alt\n",
    "import seaborn as sns; sns.set(color_codes=True)\n",
    "import matplotlib.pyplot as plt\n",
    "from mpl_toolkits.mplot3d import Axes3D\n",
    "\n",
    "\n",
    "# enable altair visualizations\n",
    "alt.renderers.enable()\n",
    "\n",
    "# opaque background\n",
    "alt.themes.enable('opaque')\n",
    "\n",
    "# suppress scientific notation\n",
    "pd.set_option('display.float_format', lambda x: '%.2f' % x)\n",
    "\n",
    "np.set_printoptions(suppress=True,\n",
    "   formatter={'float_kind':'{:0.2f}'.format}) \n",
    "\n",
    "# ignore warnings\n",
    "import warnings\n",
    "def ignore_warn(*args, **kwargs):\n",
    "    pass\n",
    "warnings.warn = ignore_warn\n",
    "warnings.filterwarnings(\"ignore\", category=Warning)\n",
    "print('Warnings will be ignored!')"
   ]
  },
  {
   "cell_type": "markdown",
   "metadata": {},
   "source": [
    "# Import Data"
   ]
  },
  {
   "cell_type": "code",
   "execution_count": 171,
   "metadata": {},
   "outputs": [],
   "source": [
    "# data directoories\n",
    "train_data = r'datasets/ames_housing_train_abridged.csv'\n",
    "test_data = r'datasets/ames_housing_test_abridged.csv'"
   ]
  },
  {
   "cell_type": "code",
   "execution_count": 172,
   "metadata": {},
   "outputs": [],
   "source": [
    "# load data into dataframes\n",
    "train = pd.read_csv(train_data, index_col=[0])\n",
    "test = pd.read_csv(test_data, index_col=[0])"
   ]
  },
  {
   "cell_type": "code",
   "execution_count": 173,
   "metadata": {},
   "outputs": [
    {
     "data": {
      "text/html": [
       "<div>\n",
       "<style scoped>\n",
       "    .dataframe tbody tr th:only-of-type {\n",
       "        vertical-align: middle;\n",
       "    }\n",
       "\n",
       "    .dataframe tbody tr th {\n",
       "        vertical-align: top;\n",
       "    }\n",
       "\n",
       "    .dataframe thead th {\n",
       "        text-align: right;\n",
       "    }\n",
       "</style>\n",
       "<table border=\"1\" class=\"dataframe\">\n",
       "  <thead>\n",
       "    <tr style=\"text-align: right;\">\n",
       "      <th></th>\n",
       "      <th>Id</th>\n",
       "      <th>MSSubClass</th>\n",
       "      <th>LotFrontage</th>\n",
       "      <th>LotArea</th>\n",
       "      <th>OverallQual</th>\n",
       "      <th>OverallCond</th>\n",
       "      <th>YearBuilt</th>\n",
       "      <th>YearRemodAdd</th>\n",
       "      <th>Exterior1st</th>\n",
       "      <th>MasVnrType</th>\n",
       "      <th>...</th>\n",
       "      <th>TotalLivingSF</th>\n",
       "      <th>TotalMainBath</th>\n",
       "      <th>TotalBath</th>\n",
       "      <th>AgeSold</th>\n",
       "      <th>TotalPorchSF</th>\n",
       "      <th>TotalSF</th>\n",
       "      <th>TotalArea</th>\n",
       "      <th>GarageAgeSold</th>\n",
       "      <th>LastRemodelYrs</th>\n",
       "      <th>NbhdPricePerSF</th>\n",
       "    </tr>\n",
       "  </thead>\n",
       "  <tbody>\n",
       "    <tr>\n",
       "      <td>0</td>\n",
       "      <td>1</td>\n",
       "      <td>60</td>\n",
       "      <td>65.00</td>\n",
       "      <td>8450</td>\n",
       "      <td>7</td>\n",
       "      <td>5</td>\n",
       "      <td>2003</td>\n",
       "      <td>2003</td>\n",
       "      <td>6</td>\n",
       "      <td>3</td>\n",
       "      <td>...</td>\n",
       "      <td>2566</td>\n",
       "      <td>2.50</td>\n",
       "      <td>3.50</td>\n",
       "      <td>5</td>\n",
       "      <td>61</td>\n",
       "      <td>2416</td>\n",
       "      <td>3114</td>\n",
       "      <td>5.00</td>\n",
       "      <td>5</td>\n",
       "      <td>75.04</td>\n",
       "    </tr>\n",
       "    <tr>\n",
       "      <td>1</td>\n",
       "      <td>2</td>\n",
       "      <td>20</td>\n",
       "      <td>80.00</td>\n",
       "      <td>9600</td>\n",
       "      <td>6</td>\n",
       "      <td>8</td>\n",
       "      <td>1976</td>\n",
       "      <td>1976</td>\n",
       "      <td>1</td>\n",
       "      <td>0</td>\n",
       "      <td>...</td>\n",
       "      <td>2524</td>\n",
       "      <td>2.00</td>\n",
       "      <td>2.50</td>\n",
       "      <td>31</td>\n",
       "      <td>298</td>\n",
       "      <td>2240</td>\n",
       "      <td>2984</td>\n",
       "      <td>31.00</td>\n",
       "      <td>31</td>\n",
       "      <td>83.46</td>\n",
       "    </tr>\n",
       "    <tr>\n",
       "      <td>2</td>\n",
       "      <td>3</td>\n",
       "      <td>60</td>\n",
       "      <td>68.00</td>\n",
       "      <td>11250</td>\n",
       "      <td>7</td>\n",
       "      <td>5</td>\n",
       "      <td>2001</td>\n",
       "      <td>2002</td>\n",
       "      <td>6</td>\n",
       "      <td>3</td>\n",
       "      <td>...</td>\n",
       "      <td>2706</td>\n",
       "      <td>2.50</td>\n",
       "      <td>3.50</td>\n",
       "      <td>7</td>\n",
       "      <td>42</td>\n",
       "      <td>2272</td>\n",
       "      <td>3314</td>\n",
       "      <td>7.00</td>\n",
       "      <td>6</td>\n",
       "      <td>75.04</td>\n",
       "    </tr>\n",
       "    <tr>\n",
       "      <td>3</td>\n",
       "      <td>4</td>\n",
       "      <td>70</td>\n",
       "      <td>60.00</td>\n",
       "      <td>9550</td>\n",
       "      <td>7</td>\n",
       "      <td>5</td>\n",
       "      <td>1915</td>\n",
       "      <td>1970</td>\n",
       "      <td>1</td>\n",
       "      <td>0</td>\n",
       "      <td>...</td>\n",
       "      <td>2473</td>\n",
       "      <td>1.00</td>\n",
       "      <td>2.00</td>\n",
       "      <td>91</td>\n",
       "      <td>307</td>\n",
       "      <td>1933</td>\n",
       "      <td>3115</td>\n",
       "      <td>8.00</td>\n",
       "      <td>36</td>\n",
       "      <td>74.77</td>\n",
       "    </tr>\n",
       "    <tr>\n",
       "      <td>4</td>\n",
       "      <td>5</td>\n",
       "      <td>60</td>\n",
       "      <td>84.00</td>\n",
       "      <td>14260</td>\n",
       "      <td>8</td>\n",
       "      <td>5</td>\n",
       "      <td>2000</td>\n",
       "      <td>2000</td>\n",
       "      <td>6</td>\n",
       "      <td>3</td>\n",
       "      <td>...</td>\n",
       "      <td>3343</td>\n",
       "      <td>2.50</td>\n",
       "      <td>3.50</td>\n",
       "      <td>8</td>\n",
       "      <td>276</td>\n",
       "      <td>2853</td>\n",
       "      <td>4179</td>\n",
       "      <td>8.00</td>\n",
       "      <td>8</td>\n",
       "      <td>83.77</td>\n",
       "    </tr>\n",
       "  </tbody>\n",
       "</table>\n",
       "<p>5 rows × 61 columns</p>\n",
       "</div>"
      ],
      "text/plain": [
       "   Id  MSSubClass  LotFrontage  LotArea  OverallQual  OverallCond  YearBuilt  \\\n",
       "0   1          60        65.00     8450            7            5       2003   \n",
       "1   2          20        80.00     9600            6            8       1976   \n",
       "2   3          60        68.00    11250            7            5       2001   \n",
       "3   4          70        60.00     9550            7            5       1915   \n",
       "4   5          60        84.00    14260            8            5       2000   \n",
       "\n",
       "   YearRemodAdd  Exterior1st  MasVnrType  ...  TotalLivingSF  TotalMainBath  \\\n",
       "0          2003            6           3  ...           2566           2.50   \n",
       "1          1976            1           0  ...           2524           2.00   \n",
       "2          2002            6           3  ...           2706           2.50   \n",
       "3          1970            1           0  ...           2473           1.00   \n",
       "4          2000            6           3  ...           3343           2.50   \n",
       "\n",
       "   TotalBath  AgeSold  TotalPorchSF  TotalSF  TotalArea  GarageAgeSold  \\\n",
       "0       3.50        5            61     2416       3114           5.00   \n",
       "1       2.50       31           298     2240       2984          31.00   \n",
       "2       3.50        7            42     2272       3314           7.00   \n",
       "3       2.00       91           307     1933       3115           8.00   \n",
       "4       3.50        8           276     2853       4179           8.00   \n",
       "\n",
       "   LastRemodelYrs  NbhdPricePerSF  \n",
       "0               5           75.04  \n",
       "1              31           83.46  \n",
       "2               6           75.04  \n",
       "3              36           74.77  \n",
       "4               8           83.77  \n",
       "\n",
       "[5 rows x 61 columns]"
      ]
     },
     "execution_count": 173,
     "metadata": {},
     "output_type": "execute_result"
    }
   ],
   "source": [
    "train.head()"
   ]
  },
  {
   "cell_type": "markdown",
   "metadata": {},
   "source": [
    "## Relationship between Total Livable Square Footage and Sales Price\n",
    "\n",
    "Let's do a quick visualization showing the relationship between livable square footage and sales price for each house. "
   ]
  },
  {
   "cell_type": "code",
   "execution_count": 174,
   "metadata": {},
   "outputs": [
    {
     "name": "stderr",
     "output_type": "stream",
     "text": [
      "C:\\Users\\Jake\\Anaconda3\\envs\\mainenv\\lib\\site-packages\\scipy\\stats\\stats.py:1713: FutureWarning: Using a non-tuple sequence for multidimensional indexing is deprecated; use `arr[tuple(seq)]` instead of `arr[seq]`. In the future this will be interpreted as an array index, `arr[np.array(seq)]`, which will result either in an error or a different result.\n",
      "  return np.add.reduce(sorted[indexer] * weights, axis=axis) / sumval\n"
     ]
    },
    {
     "data": {
      "text/plain": [
       "[(0, 5000)]"
      ]
     },
     "execution_count": 174,
     "metadata": {},
     "output_type": "execute_result"
    },
    {
     "data": {
      "image/png": "[encoded data removed]",
      "text/plain": [
       "<Figure size 842.4x595.44 with 1 Axes>"
      ]
     },
     "metadata": {},
     "output_type": "display_data"
    }
   ],
   "source": [
    "ax = sns.regplot(x=\"TotalLivingSF\", y=\"SalePrice\", data=train, \n",
    "                 scatter_kws={\"color\": \"mediumslateblue\"}, line_kws={\"color\": \"black\"})\n",
    "ax.set(ylim=(0,800000))\n",
    "ax.set(xlim=(0,5000))"
   ]
  },
  {
   "cell_type": "markdown",
   "metadata": {},
   "source": [
    "We can see that, in general, the more living square footage the house has, the higher the selling price. \n",
    "\n",
    "We expect a house with 2,000 livable square feet, for instance, to sell around the $120K - 150K range in this dataset"
   ]
  },
  {
   "cell_type": "markdown",
   "metadata": {},
   "source": [
    "# Simple Linear Regression Formula\n",
    "\n",
    "The formula for linear regression is simply a variant of the formula for a straight line in geometery:\n",
    "\n",
    "### $y = mx+b$\n",
    "\n",
    "* $m$ = slope\n",
    "* $b$ = y-intercept\n",
    "* $x$ = independent variable\n",
    "* $y$ = dependent variable\n",
    "\n",
    "\n",
    "The equation for linear regression is similar:\n",
    "\n",
    "### $y = \\beta_{1}X + \\beta_{0}$\n",
    "\n",
    "In this case:\n",
    "\n",
    "* $\\beta_{1}$ = slope\n",
    "* $\\beta_{0}$ = y-intercept\n",
    "\n",
    "Now comes the mathy part of this. In order to find $\\beta_{0}$ and $\\beta_{1}$, there are two different techniques we can use. The most common one is the Ordinary Least Squares method. Another approach inovlves using gradient descent. We will use ordinary least squares. \n",
    "\n",
    "The formulas for beta_0 (our y-int) and beta_1 (our slope) are below:\n",
    "\n",
    "\n",
    "### $\\beta_{0} = \\frac{(\\Sigma y)(\\Sigma x^2) - (\\Sigma x)(\\Sigma xy)} {n(\\Sigma x^2) - (\\Sigma x)^2}$\n",
    "\n",
    "### $\\beta_{1} = \\frac{n(\\Sigma xy) - (\\Sigma x)(\\Sigma y)} {n(\\Sigma x^2) - (\\Sigma x)^2} $\n",
    "\n",
    "If you want a further explanation on this, I recommend [Statistics How To](https://www.statisticshowto.datasciencecentral.com/probability-and-statistics/regression-analysis/find-a-linear-regression-equation/) as a source. \n"
   ]
  },
  {
   "cell_type": "markdown",
   "metadata": {},
   "source": [
    "# Simple Regression"
   ]
  },
  {
   "cell_type": "code",
   "execution_count": 175,
   "metadata": {},
   "outputs": [],
   "source": [
    "simple_reg_df = train[['TotalLivingSF', 'SalePrice']].copy()"
   ]
  },
  {
   "cell_type": "markdown",
   "metadata": {},
   "source": [
    "Our \"x\" variable (the independent variable) is total livable square footage (\"TotalLivingSF\") while our \"y\" variable (the dependent variable) is the sale price of the home (\"SalePrice\"). \n",
    "\n",
    "Let's now calculate x-squared, y-squared, and xy for each datapoint"
   ]
  },
  {
   "cell_type": "code",
   "execution_count": 176,
   "metadata": {},
   "outputs": [],
   "source": [
    "simple_reg_df['X^2'] = simple_reg_df['TotalLivingSF'] ** 2\n",
    "simple_reg_df['Y^2'] = simple_reg_df['TotalLivingSF'] ** 2\n",
    "simple_reg_df['XY'] = simple_reg_df['TotalLivingSF'] * simple_reg_df['SalePrice']"
   ]
  },
  {
   "cell_type": "code",
   "execution_count": 177,
   "metadata": {},
   "outputs": [
    {
     "data": {
      "text/html": [
       "<div>\n",
       "<style scoped>\n",
       "    .dataframe tbody tr th:only-of-type {\n",
       "        vertical-align: middle;\n",
       "    }\n",
       "\n",
       "    .dataframe tbody tr th {\n",
       "        vertical-align: top;\n",
       "    }\n",
       "\n",
       "    .dataframe thead th {\n",
       "        text-align: right;\n",
       "    }\n",
       "</style>\n",
       "<table border=\"1\" class=\"dataframe\">\n",
       "  <thead>\n",
       "    <tr style=\"text-align: right;\">\n",
       "      <th></th>\n",
       "      <th>TotalLivingSF</th>\n",
       "      <th>SalePrice</th>\n",
       "      <th>X^2</th>\n",
       "      <th>Y^2</th>\n",
       "      <th>XY</th>\n",
       "    </tr>\n",
       "  </thead>\n",
       "  <tbody>\n",
       "    <tr>\n",
       "      <td>0</td>\n",
       "      <td>2566</td>\n",
       "      <td>208500</td>\n",
       "      <td>6584356</td>\n",
       "      <td>6584356</td>\n",
       "      <td>535011000</td>\n",
       "    </tr>\n",
       "    <tr>\n",
       "      <td>1</td>\n",
       "      <td>2524</td>\n",
       "      <td>181500</td>\n",
       "      <td>6370576</td>\n",
       "      <td>6370576</td>\n",
       "      <td>458106000</td>\n",
       "    </tr>\n",
       "    <tr>\n",
       "      <td>2</td>\n",
       "      <td>2706</td>\n",
       "      <td>223500</td>\n",
       "      <td>7322436</td>\n",
       "      <td>7322436</td>\n",
       "      <td>604791000</td>\n",
       "    </tr>\n",
       "    <tr>\n",
       "      <td>3</td>\n",
       "      <td>2473</td>\n",
       "      <td>140000</td>\n",
       "      <td>6115729</td>\n",
       "      <td>6115729</td>\n",
       "      <td>346220000</td>\n",
       "    </tr>\n",
       "    <tr>\n",
       "      <td>4</td>\n",
       "      <td>3343</td>\n",
       "      <td>250000</td>\n",
       "      <td>11175649</td>\n",
       "      <td>11175649</td>\n",
       "      <td>835750000</td>\n",
       "    </tr>\n",
       "    <tr>\n",
       "      <td>...</td>\n",
       "      <td>...</td>\n",
       "      <td>...</td>\n",
       "      <td>...</td>\n",
       "      <td>...</td>\n",
       "      <td>...</td>\n",
       "    </tr>\n",
       "    <tr>\n",
       "      <td>1455</td>\n",
       "      <td>2600</td>\n",
       "      <td>175000</td>\n",
       "      <td>6760000</td>\n",
       "      <td>6760000</td>\n",
       "      <td>455000000</td>\n",
       "    </tr>\n",
       "    <tr>\n",
       "      <td>1456</td>\n",
       "      <td>3615</td>\n",
       "      <td>210000</td>\n",
       "      <td>13068225</td>\n",
       "      <td>13068225</td>\n",
       "      <td>759150000</td>\n",
       "    </tr>\n",
       "    <tr>\n",
       "      <td>1457</td>\n",
       "      <td>3492</td>\n",
       "      <td>266500</td>\n",
       "      <td>12194064</td>\n",
       "      <td>12194064</td>\n",
       "      <td>930618000</td>\n",
       "    </tr>\n",
       "    <tr>\n",
       "      <td>1458</td>\n",
       "      <td>2156</td>\n",
       "      <td>142125</td>\n",
       "      <td>4648336</td>\n",
       "      <td>4648336</td>\n",
       "      <td>306421500</td>\n",
       "    </tr>\n",
       "    <tr>\n",
       "      <td>1459</td>\n",
       "      <td>2512</td>\n",
       "      <td>147500</td>\n",
       "      <td>6310144</td>\n",
       "      <td>6310144</td>\n",
       "      <td>370520000</td>\n",
       "    </tr>\n",
       "  </tbody>\n",
       "</table>\n",
       "<p>1460 rows × 5 columns</p>\n",
       "</div>"
      ],
      "text/plain": [
       "      TotalLivingSF  SalePrice       X^2       Y^2         XY\n",
       "0              2566     208500   6584356   6584356  535011000\n",
       "1              2524     181500   6370576   6370576  458106000\n",
       "2              2706     223500   7322436   7322436  604791000\n",
       "3              2473     140000   6115729   6115729  346220000\n",
       "4              3343     250000  11175649  11175649  835750000\n",
       "...             ...        ...       ...       ...        ...\n",
       "1455           2600     175000   6760000   6760000  455000000\n",
       "1456           3615     210000  13068225  13068225  759150000\n",
       "1457           3492     266500  12194064  12194064  930618000\n",
       "1458           2156     142125   4648336   4648336  306421500\n",
       "1459           2512     147500   6310144   6310144  370520000\n",
       "\n",
       "[1460 rows x 5 columns]"
      ]
     },
     "execution_count": 177,
     "metadata": {},
     "output_type": "execute_result"
    }
   ],
   "source": [
    "simple_reg_df"
   ]
  },
  {
   "cell_type": "markdown",
   "metadata": {},
   "source": [
    "With that, we can now calculate all the necessary sums"
   ]
  },
  {
   "cell_type": "code",
   "execution_count": 178,
   "metadata": {},
   "outputs": [],
   "source": [
    "# sum of x-squared, y, x, and x*y\n",
    "sum_x_sq = np.sum(simple_reg_df['X^2'])\n",
    "sum_y = np.sum(simple_reg_df['SalePrice'])\n",
    "sum_x = np.sum(simple_reg_df['TotalLivingSF'])\n",
    "sum_xy = np.sum(simple_reg_df['XY'])\n",
    "\n",
    "# n = number of rows in dataframe\n",
    "n = simple_reg_df.shape[0]"
   ]
  },
  {
   "cell_type": "markdown",
   "metadata": {},
   "source": [
    "Note that the denominator for $\\beta_{0}$ and $\\beta_{1}$ are the same, so we can calculate that seperately, before calculating the numerators."
   ]
  },
  {
   "cell_type": "code",
   "execution_count": 179,
   "metadata": {},
   "outputs": [],
   "source": [
    "denom = (n * sum_x_sq) - (sum_x ** 2)"
   ]
  },
  {
   "cell_type": "markdown",
   "metadata": {},
   "source": [
    "Now we calculate the numerators for both $\\beta_{0}$ and $\\beta_{1}$"
   ]
  },
  {
   "cell_type": "code",
   "execution_count": 180,
   "metadata": {},
   "outputs": [],
   "source": [
    "beta_0_num = ((sum_y * sum_x_sq) - (sum_x * sum_xy))"
   ]
  },
  {
   "cell_type": "code",
   "execution_count": 181,
   "metadata": {},
   "outputs": [],
   "source": [
    "beta_1_num = n * sum_xy - sum_x * sum_y"
   ]
  },
  {
   "cell_type": "markdown",
   "metadata": {},
   "source": [
    "Finally, we can calculate the results."
   ]
  },
  {
   "cell_type": "code",
   "execution_count": 182,
   "metadata": {},
   "outputs": [],
   "source": [
    "beta_0 = beta_0_num / denom"
   ]
  },
  {
   "cell_type": "code",
   "execution_count": 183,
   "metadata": {},
   "outputs": [],
   "source": [
    "beta_1 = beta_1_num / denom"
   ]
  },
  {
   "cell_type": "code",
   "execution_count": 184,
   "metadata": {},
   "outputs": [
    {
     "name": "stdout",
     "output_type": "stream",
     "text": [
      "beta_0:  -13219.802498938292\n",
      "beta_1:  75.62809528037232\n"
     ]
    }
   ],
   "source": [
    "print(\"beta_0: \", beta_0)\n",
    "print(\"beta_1: \", beta_1)"
   ]
  },
  {
   "cell_type": "markdown",
   "metadata": {},
   "source": [
    "## Calculate our Predictions"
   ]
  },
  {
   "cell_type": "code",
   "execution_count": 185,
   "metadata": {},
   "outputs": [],
   "source": [
    "simple_reg_df['y_pred'] = simple_reg_df['TotalLivingSF'] * beta_1 + beta_0"
   ]
  },
  {
   "cell_type": "code",
   "execution_count": 186,
   "metadata": {},
   "outputs": [
    {
     "data": {
      "text/html": [
       "<div>\n",
       "<style scoped>\n",
       "    .dataframe tbody tr th:only-of-type {\n",
       "        vertical-align: middle;\n",
       "    }\n",
       "\n",
       "    .dataframe tbody tr th {\n",
       "        vertical-align: top;\n",
       "    }\n",
       "\n",
       "    .dataframe thead th {\n",
       "        text-align: right;\n",
       "    }\n",
       "</style>\n",
       "<table border=\"1\" class=\"dataframe\">\n",
       "  <thead>\n",
       "    <tr style=\"text-align: right;\">\n",
       "      <th></th>\n",
       "      <th>TotalLivingSF</th>\n",
       "      <th>SalePrice</th>\n",
       "      <th>X^2</th>\n",
       "      <th>Y^2</th>\n",
       "      <th>XY</th>\n",
       "      <th>y_pred</th>\n",
       "    </tr>\n",
       "  </thead>\n",
       "  <tbody>\n",
       "    <tr>\n",
       "      <td>0</td>\n",
       "      <td>2566</td>\n",
       "      <td>208500</td>\n",
       "      <td>6584356</td>\n",
       "      <td>6584356</td>\n",
       "      <td>535011000</td>\n",
       "      <td>180841.89</td>\n",
       "    </tr>\n",
       "    <tr>\n",
       "      <td>1</td>\n",
       "      <td>2524</td>\n",
       "      <td>181500</td>\n",
       "      <td>6370576</td>\n",
       "      <td>6370576</td>\n",
       "      <td>458106000</td>\n",
       "      <td>177665.51</td>\n",
       "    </tr>\n",
       "    <tr>\n",
       "      <td>2</td>\n",
       "      <td>2706</td>\n",
       "      <td>223500</td>\n",
       "      <td>7322436</td>\n",
       "      <td>7322436</td>\n",
       "      <td>604791000</td>\n",
       "      <td>191429.82</td>\n",
       "    </tr>\n",
       "    <tr>\n",
       "      <td>3</td>\n",
       "      <td>2473</td>\n",
       "      <td>140000</td>\n",
       "      <td>6115729</td>\n",
       "      <td>6115729</td>\n",
       "      <td>346220000</td>\n",
       "      <td>173808.48</td>\n",
       "    </tr>\n",
       "    <tr>\n",
       "      <td>4</td>\n",
       "      <td>3343</td>\n",
       "      <td>250000</td>\n",
       "      <td>11175649</td>\n",
       "      <td>11175649</td>\n",
       "      <td>835750000</td>\n",
       "      <td>239604.92</td>\n",
       "    </tr>\n",
       "  </tbody>\n",
       "</table>\n",
       "</div>"
      ],
      "text/plain": [
       "   TotalLivingSF  SalePrice       X^2       Y^2         XY    y_pred\n",
       "0           2566     208500   6584356   6584356  535011000 180841.89\n",
       "1           2524     181500   6370576   6370576  458106000 177665.51\n",
       "2           2706     223500   7322436   7322436  604791000 191429.82\n",
       "3           2473     140000   6115729   6115729  346220000 173808.48\n",
       "4           3343     250000  11175649  11175649  835750000 239604.92"
      ]
     },
     "execution_count": 186,
     "metadata": {},
     "output_type": "execute_result"
    }
   ],
   "source": [
    "simple_reg_df.head()"
   ]
  },
  {
   "cell_type": "markdown",
   "metadata": {},
   "source": [
    "## Calculate Root Mean Squared Error (RMSE)"
   ]
  },
  {
   "cell_type": "code",
   "execution_count": 189,
   "metadata": {},
   "outputs": [],
   "source": [
    "simple_reg_df['error'] = simple_reg_df['y_pred'] - simple_reg_df['SalePrice']\n",
    "simple_reg_df['squared_error'] = simple_reg_df['error'] ** 2"
   ]
  },
  {
   "cell_type": "code",
   "execution_count": 190,
   "metadata": {},
   "outputs": [
    {
     "data": {
      "text/html": [
       "<div>\n",
       "<style scoped>\n",
       "    .dataframe tbody tr th:only-of-type {\n",
       "        vertical-align: middle;\n",
       "    }\n",
       "\n",
       "    .dataframe tbody tr th {\n",
       "        vertical-align: top;\n",
       "    }\n",
       "\n",
       "    .dataframe thead th {\n",
       "        text-align: right;\n",
       "    }\n",
       "</style>\n",
       "<table border=\"1\" class=\"dataframe\">\n",
       "  <thead>\n",
       "    <tr style=\"text-align: right;\">\n",
       "      <th></th>\n",
       "      <th>TotalLivingSF</th>\n",
       "      <th>SalePrice</th>\n",
       "      <th>X^2</th>\n",
       "      <th>Y^2</th>\n",
       "      <th>XY</th>\n",
       "      <th>y_pred</th>\n",
       "      <th>error</th>\n",
       "      <th>squared_error</th>\n",
       "    </tr>\n",
       "  </thead>\n",
       "  <tbody>\n",
       "    <tr>\n",
       "      <td>0</td>\n",
       "      <td>2566</td>\n",
       "      <td>208500</td>\n",
       "      <td>6584356</td>\n",
       "      <td>6584356</td>\n",
       "      <td>535011000</td>\n",
       "      <td>180841.89</td>\n",
       "      <td>-27658.11</td>\n",
       "      <td>764971049.30</td>\n",
       "    </tr>\n",
       "    <tr>\n",
       "      <td>1</td>\n",
       "      <td>2524</td>\n",
       "      <td>181500</td>\n",
       "      <td>6370576</td>\n",
       "      <td>6370576</td>\n",
       "      <td>458106000</td>\n",
       "      <td>177665.51</td>\n",
       "      <td>-3834.49</td>\n",
       "      <td>14703313.65</td>\n",
       "    </tr>\n",
       "    <tr>\n",
       "      <td>2</td>\n",
       "      <td>2706</td>\n",
       "      <td>223500</td>\n",
       "      <td>7322436</td>\n",
       "      <td>7322436</td>\n",
       "      <td>604791000</td>\n",
       "      <td>191429.82</td>\n",
       "      <td>-32070.18</td>\n",
       "      <td>1028496231.66</td>\n",
       "    </tr>\n",
       "    <tr>\n",
       "      <td>3</td>\n",
       "      <td>2473</td>\n",
       "      <td>140000</td>\n",
       "      <td>6115729</td>\n",
       "      <td>6115729</td>\n",
       "      <td>346220000</td>\n",
       "      <td>173808.48</td>\n",
       "      <td>33808.48</td>\n",
       "      <td>1143013125.81</td>\n",
       "    </tr>\n",
       "    <tr>\n",
       "      <td>4</td>\n",
       "      <td>3343</td>\n",
       "      <td>250000</td>\n",
       "      <td>11175649</td>\n",
       "      <td>11175649</td>\n",
       "      <td>835750000</td>\n",
       "      <td>239604.92</td>\n",
       "      <td>-10395.08</td>\n",
       "      <td>108057687.72</td>\n",
       "    </tr>\n",
       "  </tbody>\n",
       "</table>\n",
       "</div>"
      ],
      "text/plain": [
       "   TotalLivingSF  SalePrice       X^2       Y^2         XY    y_pred  \\\n",
       "0           2566     208500   6584356   6584356  535011000 180841.89   \n",
       "1           2524     181500   6370576   6370576  458106000 177665.51   \n",
       "2           2706     223500   7322436   7322436  604791000 191429.82   \n",
       "3           2473     140000   6115729   6115729  346220000 173808.48   \n",
       "4           3343     250000  11175649  11175649  835750000 239604.92   \n",
       "\n",
       "      error  squared_error  \n",
       "0 -27658.11   764971049.30  \n",
       "1  -3834.49    14703313.65  \n",
       "2 -32070.18  1028496231.66  \n",
       "3  33808.48  1143013125.81  \n",
       "4 -10395.08   108057687.72  "
      ]
     },
     "execution_count": 190,
     "metadata": {},
     "output_type": "execute_result"
    }
   ],
   "source": [
    "simple_reg_df.head()"
   ]
  },
  {
   "cell_type": "markdown",
   "metadata": {},
   "source": [
    "Now that we've calculated the residuals (\"error\") and the squares of the residuals (\"squared error\"), we can calculate RMSE. \n",
    "\n",
    "We take the sum of the squared residuals and then divide by \"n\" (the number of rows / observations); that is, we find the mean squared error. "
   ]
  },
  {
   "cell_type": "code",
   "execution_count": 193,
   "metadata": {},
   "outputs": [],
   "source": [
    "mean_squared_error = simple_reg_df.squared_error.sum() / n"
   ]
  },
  {
   "cell_type": "code",
   "execution_count": 194,
   "metadata": {},
   "outputs": [
    {
     "name": "stdout",
     "output_type": "stream",
     "text": [
      "Root Mean Squared Error (RMSE):  49471.91589851819\n"
     ]
    }
   ],
   "source": [
    "rmse = np.sqrt(mean_squared_error)\n",
    "print(\"Root Mean Squared Error (RMSE): \", rmse)"
   ]
  },
  {
   "cell_type": "markdown",
   "metadata": {},
   "source": [
    "# Multiple Linear Regression\n",
    "\n",
    "\n",
    "The formula to find our coefficients is now a bit more complicated with multiple linear regression. \n",
    "\n",
    "### $\\beta = (X^TX)^{-1}X^Ty $\n",
    "\n",
    "We will need to do some transposition, matrix multiplication, and inversion. This will be much easier in Python than by hand, but the logic can be difficult to follow."
   ]
  },
  {
   "cell_type": "markdown",
   "metadata": {},
   "source": [
    "### Select Features\n",
    "\n",
    "Before we worry about the math, we need to first select the features for our multiple linear regression model. \n",
    "\n",
    "'SalePrice' is still our dependent (\"y\") variable.\n",
    "\n",
    "Now we will use 3 independent (\"X\") variables to try to predict it. We'll keep 'TotalLivingSF' from our first regression, but now we'll add Condition ('OverallCond') and Neighborhood Price per Square Foot ('NbhdPricePerSF'). \n",
    "\n",
    "Keep in mind, we're not trying to create an award winning algorithm here; just trying to explain how multiple linear regression works."
   ]
  },
  {
   "cell_type": "code",
   "execution_count": 441,
   "metadata": {},
   "outputs": [],
   "source": [
    "# create dataframe with our 4 relevant columns\n",
    "multi_reg_df = train[['TotalLivingSF', 'OverallCond', 'NbhdPricePerSF', 'SalePrice']]\n",
    "\n",
    "# create arrays of our X and y values\n",
    "X = train[['TotalLivingSF', 'OverallCond', 'NbhdPricePerSF']].values\n",
    "y = train['SalePrice'].values"
   ]
  },
  {
   "cell_type": "markdown",
   "metadata": {},
   "source": [
    "### Create an Array of Ones\n",
    "\n",
    "After selecting our features, our next step is to create an array of 1's in the shape of (number of rows, 1). Then we need to append this array to our X array for the intercept (bias) term. \n",
    "\n",
    "In this example, our X array has a shape of (1460,3), or 1460 rows, 3 columns. When we add the array of 1's, we'll get a new array of the shape (1460,4)."
   ]
  },
  {
   "cell_type": "code",
   "execution_count": 429,
   "metadata": {},
   "outputs": [],
   "source": [
    "# find number of rows\n",
    "rows = X.shape[0]"
   ]
  },
  {
   "cell_type": "code",
   "execution_count": 432,
   "metadata": {},
   "outputs": [
    {
     "data": {
      "text/plain": [
       "array([[1.00],\n",
       "       [1.00],\n",
       "       [1.00],\n",
       "       ...,\n",
       "       [1.00],\n",
       "       [1.00],\n",
       "       [1.00]])"
      ]
     },
     "execution_count": 432,
     "metadata": {},
     "output_type": "execute_result"
    }
   ],
   "source": [
    "ones = np.ones(shape=rows).reshape(-1, 1)\n",
    "ones"
   ]
  },
  {
   "cell_type": "code",
   "execution_count": 443,
   "metadata": {},
   "outputs": [
    {
     "data": {
      "text/plain": [
       "array([[2566.00, 5.00, 75.04, 1.00],\n",
       "       [2524.00, 8.00, 83.46, 1.00],\n",
       "       [2706.00, 5.00, 75.04, 1.00],\n",
       "       ...,\n",
       "       [3492.00, 9.00, 74.77, 1.00],\n",
       "       [2156.00, 6.00, 62.50, 1.00],\n",
       "       [2512.00, 6.00, 57.24, 1.00]])"
      ]
     },
     "execution_count": 443,
     "metadata": {},
     "output_type": "execute_result"
    }
   ],
   "source": [
    "X = np.concatenate((X, ones), 1)\n",
    "X"
   ]
  },
  {
   "cell_type": "markdown",
   "metadata": {},
   "source": [
    "### Tranposing, Inverting, and Matrix Multiplying\n",
    "\n",
    "Now the trickier part, but we'll walk through it step by step. First, let's transpose our new X matrix."
   ]
  },
  {
   "cell_type": "code",
   "execution_count": 445,
   "metadata": {},
   "outputs": [
    {
     "data": {
      "text/plain": [
       "array([[2566.00, 2524.00, 2706.00, ..., 3492.00, 2156.00, 2512.00],\n",
       "       [5.00, 8.00, 5.00, ..., 9.00, 6.00, 6.00],\n",
       "       [75.04, 83.46, 75.04, ..., 74.77, 62.50, 57.24],\n",
       "       [1.00, 1.00, 1.00, ..., 1.00, 1.00, 1.00]])"
      ]
     },
     "execution_count": 445,
     "metadata": {},
     "output_type": "execute_result"
    }
   ],
   "source": [
    "X_T = X.transpose()\n",
    "X_T"
   ]
  },
  {
   "cell_type": "markdown",
   "metadata": {},
   "source": [
    "Next, let's take the dot product of our transposed matrix (\"X_T\") and our X matrix. "
   ]
  },
  {
   "cell_type": "code",
   "execution_count": 446,
   "metadata": {},
   "outputs": [
    {
     "data": {
      "text/plain": [
       "array([[10606156543.00, 20703911.00, 264144946.00, 3747891.00],\n",
       "       [20703911.00, 47190.00, 557411.20, 8140.00],\n",
       "       [264144946.00, 557411.20, 7100388.79, 100721.18],\n",
       "       [3747891.00, 8140.00, 100721.18, 1460.00]])"
      ]
     },
     "execution_count": 446,
     "metadata": {},
     "output_type": "execute_result"
    }
   ],
   "source": [
    "X_mod = X_T.dot(X)\n",
    "X_mod"
   ]
  },
  {
   "cell_type": "markdown",
   "metadata": {},
   "source": [
    "Now, we need to invert the result"
   ]
  },
  {
   "cell_type": "code",
   "execution_count": 447,
   "metadata": {},
   "outputs": [
    {
     "data": {
      "text/plain": [
       "array([[0.00, 0.00, -0.00, -0.00],\n",
       "       [0.00, 0.00, 0.00, -0.00],\n",
       "       [-0.00, 0.00, 0.00, -0.00],\n",
       "       [-0.00, -0.00, -0.00, 0.06]])"
      ]
     },
     "execution_count": 447,
     "metadata": {},
     "output_type": "execute_result"
    }
   ],
   "source": [
    "X_mod = np.linalg.inv(X_mod)\n",
    "X_mod"
   ]
  },
  {
   "cell_type": "markdown",
   "metadata": {},
   "source": [
    "### Voila!\n",
    "\n",
    "Now we can finally discover our coefficients by taking the dot product of the previous result and X_T * y"
   ]
  },
  {
   "cell_type": "code",
   "execution_count": 449,
   "metadata": {},
   "outputs": [
    {
     "data": {
      "text/plain": [
       "array([57.62, 8510.46, 3465.83, -253547.76])"
      ]
     },
     "execution_count": 449,
     "metadata": {},
     "output_type": "execute_result"
    }
   ],
   "source": [
    "coefficients = X_mod.dot(X_T).dot(y)\n",
    "coefficients"
   ]
  },
  {
   "cell_type": "markdown",
   "metadata": {},
   "source": [
    "## Let's Make Predictions!\n",
    "\n",
    "We're now through with the most complicated part. With our coefficients in place, it's just some simple addition and multiplication to find our predictions.\n",
    "\n",
    "Let's load our dataframe back up to see the process in action."
   ]
  },
  {
   "cell_type": "code",
   "execution_count": 451,
   "metadata": {},
   "outputs": [
    {
     "data": {
      "text/html": [
       "<div>\n",
       "<style scoped>\n",
       "    .dataframe tbody tr th:only-of-type {\n",
       "        vertical-align: middle;\n",
       "    }\n",
       "\n",
       "    .dataframe tbody tr th {\n",
       "        vertical-align: top;\n",
       "    }\n",
       "\n",
       "    .dataframe thead th {\n",
       "        text-align: right;\n",
       "    }\n",
       "</style>\n",
       "<table border=\"1\" class=\"dataframe\">\n",
       "  <thead>\n",
       "    <tr style=\"text-align: right;\">\n",
       "      <th></th>\n",
       "      <th>TotalLivingSF</th>\n",
       "      <th>OverallCond</th>\n",
       "      <th>NbhdPricePerSF</th>\n",
       "      <th>SalePrice</th>\n",
       "    </tr>\n",
       "  </thead>\n",
       "  <tbody>\n",
       "    <tr>\n",
       "      <td>0</td>\n",
       "      <td>2566</td>\n",
       "      <td>5</td>\n",
       "      <td>75.04</td>\n",
       "      <td>208500</td>\n",
       "    </tr>\n",
       "    <tr>\n",
       "      <td>1</td>\n",
       "      <td>2524</td>\n",
       "      <td>8</td>\n",
       "      <td>83.46</td>\n",
       "      <td>181500</td>\n",
       "    </tr>\n",
       "    <tr>\n",
       "      <td>2</td>\n",
       "      <td>2706</td>\n",
       "      <td>5</td>\n",
       "      <td>75.04</td>\n",
       "      <td>223500</td>\n",
       "    </tr>\n",
       "    <tr>\n",
       "      <td>3</td>\n",
       "      <td>2473</td>\n",
       "      <td>5</td>\n",
       "      <td>74.77</td>\n",
       "      <td>140000</td>\n",
       "    </tr>\n",
       "    <tr>\n",
       "      <td>4</td>\n",
       "      <td>3343</td>\n",
       "      <td>5</td>\n",
       "      <td>83.77</td>\n",
       "      <td>250000</td>\n",
       "    </tr>\n",
       "  </tbody>\n",
       "</table>\n",
       "</div>"
      ],
      "text/plain": [
       "   TotalLivingSF  OverallCond  NbhdPricePerSF  SalePrice\n",
       "0           2566            5           75.04     208500\n",
       "1           2524            8           83.46     181500\n",
       "2           2706            5           75.04     223500\n",
       "3           2473            5           74.77     140000\n",
       "4           3343            5           83.77     250000"
      ]
     },
     "execution_count": 451,
     "metadata": {},
     "output_type": "execute_result"
    }
   ],
   "source": [
    "multi_reg_df.head()"
   ]
  },
  {
   "cell_type": "markdown",
   "metadata": {},
   "source": [
    "Now we'll add the predictions"
   ]
  },
  {
   "cell_type": "code",
   "execution_count": 464,
   "metadata": {},
   "outputs": [],
   "source": [
    "multi_reg_df['y_pred'] = coefficients[3] + coefficients[0] * multi_reg_df['TotalLivingSF'] + coefficients[1] * multi_reg_df['OverallCond'] + coefficients[2] * multi_reg_df['NbhdPricePerSF']"
   ]
  },
  {
   "cell_type": "code",
   "execution_count": 466,
   "metadata": {},
   "outputs": [
    {
     "data": {
      "text/html": [
       "<div>\n",
       "<style scoped>\n",
       "    .dataframe tbody tr th:only-of-type {\n",
       "        vertical-align: middle;\n",
       "    }\n",
       "\n",
       "    .dataframe tbody tr th {\n",
       "        vertical-align: top;\n",
       "    }\n",
       "\n",
       "    .dataframe thead th {\n",
       "        text-align: right;\n",
       "    }\n",
       "</style>\n",
       "<table border=\"1\" class=\"dataframe\">\n",
       "  <thead>\n",
       "    <tr style=\"text-align: right;\">\n",
       "      <th></th>\n",
       "      <th>TotalLivingSF</th>\n",
       "      <th>OverallCond</th>\n",
       "      <th>NbhdPricePerSF</th>\n",
       "      <th>SalePrice</th>\n",
       "      <th>y_pred</th>\n",
       "    </tr>\n",
       "  </thead>\n",
       "  <tbody>\n",
       "    <tr>\n",
       "      <td>0</td>\n",
       "      <td>2566</td>\n",
       "      <td>5</td>\n",
       "      <td>75.04</td>\n",
       "      <td>208500</td>\n",
       "      <td>196947.57</td>\n",
       "    </tr>\n",
       "    <tr>\n",
       "      <td>1</td>\n",
       "      <td>2524</td>\n",
       "      <td>8</td>\n",
       "      <td>83.46</td>\n",
       "      <td>181500</td>\n",
       "      <td>249237.65</td>\n",
       "    </tr>\n",
       "    <tr>\n",
       "      <td>2</td>\n",
       "      <td>2706</td>\n",
       "      <td>5</td>\n",
       "      <td>75.04</td>\n",
       "      <td>223500</td>\n",
       "      <td>205014.87</td>\n",
       "    </tr>\n",
       "    <tr>\n",
       "      <td>3</td>\n",
       "      <td>2473</td>\n",
       "      <td>5</td>\n",
       "      <td>74.77</td>\n",
       "      <td>140000</td>\n",
       "      <td>190646.77</td>\n",
       "    </tr>\n",
       "    <tr>\n",
       "      <td>4</td>\n",
       "      <td>3343</td>\n",
       "      <td>5</td>\n",
       "      <td>83.77</td>\n",
       "      <td>250000</td>\n",
       "      <td>271970.02</td>\n",
       "    </tr>\n",
       "  </tbody>\n",
       "</table>\n",
       "</div>"
      ],
      "text/plain": [
       "   TotalLivingSF  OverallCond  NbhdPricePerSF  SalePrice    y_pred\n",
       "0           2566            5           75.04     208500 196947.57\n",
       "1           2524            8           83.46     181500 249237.65\n",
       "2           2706            5           75.04     223500 205014.87\n",
       "3           2473            5           74.77     140000 190646.77\n",
       "4           3343            5           83.77     250000 271970.02"
      ]
     },
     "execution_count": 466,
     "metadata": {},
     "output_type": "execute_result"
    }
   ],
   "source": [
    "multi_reg_df.head()"
   ]
  },
  {
   "cell_type": "code",
   "execution_count": 467,
   "metadata": {},
   "outputs": [],
   "source": [
    "multi_reg_df['error'] = multi_reg_df['y_pred'] - multi_reg_df['SalePrice']\n",
    "multi_reg_df['squared_error'] = multi_reg_df['error'] ** 2"
   ]
  },
  {
   "cell_type": "code",
   "execution_count": 469,
   "metadata": {},
   "outputs": [
    {
     "data": {
      "text/html": [
       "<div>\n",
       "<style scoped>\n",
       "    .dataframe tbody tr th:only-of-type {\n",
       "        vertical-align: middle;\n",
       "    }\n",
       "\n",
       "    .dataframe tbody tr th {\n",
       "        vertical-align: top;\n",
       "    }\n",
       "\n",
       "    .dataframe thead th {\n",
       "        text-align: right;\n",
       "    }\n",
       "</style>\n",
       "<table border=\"1\" class=\"dataframe\">\n",
       "  <thead>\n",
       "    <tr style=\"text-align: right;\">\n",
       "      <th></th>\n",
       "      <th>TotalLivingSF</th>\n",
       "      <th>OverallCond</th>\n",
       "      <th>NbhdPricePerSF</th>\n",
       "      <th>SalePrice</th>\n",
       "      <th>y_pred</th>\n",
       "      <th>error</th>\n",
       "      <th>squared_error</th>\n",
       "    </tr>\n",
       "  </thead>\n",
       "  <tbody>\n",
       "    <tr>\n",
       "      <td>0</td>\n",
       "      <td>2566</td>\n",
       "      <td>5</td>\n",
       "      <td>75.04</td>\n",
       "      <td>208500</td>\n",
       "      <td>196947.57</td>\n",
       "      <td>-11552.43</td>\n",
       "      <td>133458568.10</td>\n",
       "    </tr>\n",
       "    <tr>\n",
       "      <td>1</td>\n",
       "      <td>2524</td>\n",
       "      <td>8</td>\n",
       "      <td>83.46</td>\n",
       "      <td>181500</td>\n",
       "      <td>249237.65</td>\n",
       "      <td>67737.65</td>\n",
       "      <td>4588389679.69</td>\n",
       "    </tr>\n",
       "    <tr>\n",
       "      <td>2</td>\n",
       "      <td>2706</td>\n",
       "      <td>5</td>\n",
       "      <td>75.04</td>\n",
       "      <td>223500</td>\n",
       "      <td>205014.87</td>\n",
       "      <td>-18485.13</td>\n",
       "      <td>341699857.36</td>\n",
       "    </tr>\n",
       "    <tr>\n",
       "      <td>3</td>\n",
       "      <td>2473</td>\n",
       "      <td>5</td>\n",
       "      <td>74.77</td>\n",
       "      <td>140000</td>\n",
       "      <td>190646.77</td>\n",
       "      <td>50646.77</td>\n",
       "      <td>2565095664.19</td>\n",
       "    </tr>\n",
       "    <tr>\n",
       "      <td>4</td>\n",
       "      <td>3343</td>\n",
       "      <td>5</td>\n",
       "      <td>83.77</td>\n",
       "      <td>250000</td>\n",
       "      <td>271970.02</td>\n",
       "      <td>21970.02</td>\n",
       "      <td>482681827.83</td>\n",
       "    </tr>\n",
       "  </tbody>\n",
       "</table>\n",
       "</div>"
      ],
      "text/plain": [
       "   TotalLivingSF  OverallCond  NbhdPricePerSF  SalePrice    y_pred     error  \\\n",
       "0           2566            5           75.04     208500 196947.57 -11552.43   \n",
       "1           2524            8           83.46     181500 249237.65  67737.65   \n",
       "2           2706            5           75.04     223500 205014.87 -18485.13   \n",
       "3           2473            5           74.77     140000 190646.77  50646.77   \n",
       "4           3343            5           83.77     250000 271970.02  21970.02   \n",
       "\n",
       "   squared_error  \n",
       "0   133458568.10  \n",
       "1  4588389679.69  \n",
       "2   341699857.36  \n",
       "3  2565095664.19  \n",
       "4   482681827.83  "
      ]
     },
     "execution_count": 469,
     "metadata": {},
     "output_type": "execute_result"
    }
   ],
   "source": [
    "multi_reg_df.head()"
   ]
  },
  {
   "cell_type": "markdown",
   "metadata": {},
   "source": [
    "## Calculate Root Mean Squared Error (RMSE)"
   ]
  },
  {
   "cell_type": "code",
   "execution_count": 470,
   "metadata": {},
   "outputs": [],
   "source": [
    "mean_squared_error_multi = multi_reg_df.squared_error.sum() / n"
   ]
  },
  {
   "cell_type": "code",
   "execution_count": 472,
   "metadata": {},
   "outputs": [
    {
     "data": {
      "text/plain": [
       "1494050961.8816855"
      ]
     },
     "execution_count": 472,
     "metadata": {},
     "output_type": "execute_result"
    }
   ],
   "source": [
    "mean_squared_error_multi"
   ]
  },
  {
   "cell_type": "code",
   "execution_count": 473,
   "metadata": {},
   "outputs": [
    {
     "name": "stdout",
     "output_type": "stream",
     "text": [
      "Root Mean Squared Error (RMSE):  38652.95540940803\n"
     ]
    }
   ],
   "source": [
    "rmse_multi = np.sqrt(mean_squared_error_multi)\n",
    "print(\"Root Mean Squared Error (RMSE): \", rmse_multi)"
   ]
  },
  {
   "cell_type": "markdown",
   "metadata": {},
   "source": [
    "## Evaluating Results\n",
    "\n",
    "We get a RMSE of 38,652. This is a significant improvement over the result for a simple regression, which was 49,471. Therefore, we can see that adding more features to this regression can improve its predicative power. "
   ]
  },
  {
   "cell_type": "code",
   "execution_count": null,
   "metadata": {},
   "outputs": [],
   "source": []
  },
  {
   "cell_type": "markdown",
   "metadata": {},
   "source": [
    "# Run Our Regression in SK-Learn\n",
    "\n",
    "We've now learned how to run our regression the difficult way, by hand-coding every element from scratch. Now, let's do it the much easier way using the Scikit Learn library in Python."
   ]
  },
  {
   "cell_type": "code",
   "execution_count": 491,
   "metadata": {},
   "outputs": [],
   "source": [
    "# create arrays of our X and y values\n",
    "X = train[['TotalLivingSF', 'OverallCond', 'NbhdPricePerSF']].values\n",
    "y = train['SalePrice'].values"
   ]
  },
  {
   "cell_type": "code",
   "execution_count": 481,
   "metadata": {},
   "outputs": [],
   "source": [
    "# set up Linear Regression model\n",
    "lr = LinearRegression()"
   ]
  },
  {
   "cell_type": "code",
   "execution_count": 483,
   "metadata": {},
   "outputs": [],
   "source": [
    "# fit X and y to model\n",
    "lr_model = lr.fit(X,y)"
   ]
  },
  {
   "cell_type": "code",
   "execution_count": 485,
   "metadata": {},
   "outputs": [
    {
     "data": {
      "text/plain": [
       "0.7631043213732622"
      ]
     },
     "execution_count": 485,
     "metadata": {},
     "output_type": "execute_result"
    }
   ],
   "source": [
    "# score returns R-squared for the model\n",
    "lr_score = lr.score(X, y)\n",
    "lr_score"
   ]
  },
  {
   "cell_type": "code",
   "execution_count": 486,
   "metadata": {},
   "outputs": [
    {
     "data": {
      "text/plain": [
       "array([57.62, 8510.46, 3465.83])"
      ]
     },
     "execution_count": 486,
     "metadata": {},
     "output_type": "execute_result"
    }
   ],
   "source": [
    "# here we can see our coefficients\n",
    "lr_coefs = lr.coef_\n",
    "lr_coefs"
   ]
  },
  {
   "cell_type": "code",
   "execution_count": 487,
   "metadata": {},
   "outputs": [
    {
     "data": {
      "text/plain": [
       "-253547.762474974"
      ]
     },
     "execution_count": 487,
     "metadata": {},
     "output_type": "execute_result"
    }
   ],
   "source": [
    "# also the y-intercept, which is grabbed via a seperate method\n",
    "lr_yint = lr.intercept_ \n",
    "lr_yint"
   ]
  },
  {
   "cell_type": "code",
   "execution_count": 489,
   "metadata": {},
   "outputs": [
    {
     "data": {
      "text/plain": [
       "array([196947.57, 249237.65, 205014.87, ..., 283407.04, 138351.67,\n",
       "       140665.28])"
      ]
     },
     "execution_count": 489,
     "metadata": {},
     "output_type": "execute_result"
    }
   ],
   "source": [
    "# make our predictions\n",
    "lr_preds = lr.predict(X)\n",
    "lr_preds"
   ]
  },
  {
   "cell_type": "code",
   "execution_count": 498,
   "metadata": {},
   "outputs": [
    {
     "data": {
      "text/plain": [
       "38652.95540940803"
      ]
     },
     "execution_count": 498,
     "metadata": {},
     "output_type": "execute_result"
    }
   ],
   "source": [
    "# calculate RMSE\n",
    "# note: sklearn only calculates mean squared error so we need to use numpy to calculate the square root of MSE\n",
    "lr_rmse = np.sqrt(mean_squared_error(y, lr_preds))\n",
    "lr_rmse"
   ]
  },
  {
   "cell_type": "markdown",
   "metadata": {},
   "source": [
    "# That's All Folks!\n"
   ]
  },
  {
   "cell_type": "markdown",
   "metadata": {},
   "source": [
    "# Other Resources\n",
    "\n",
    "Most of which are better than mine!"
   ]
  },
  {
   "cell_type": "markdown",
   "metadata": {},
   "source": [
    "* Statistics How To: [Simple Linear Regression](https://www.statisticshowto.datasciencecentral.com/probability-and-statistics/regression-analysis/find-a-linear-regression-equation/)\n",
    "* Mubaris NK: [Linear Regression from Scratch](https://mubaris.com/posts/linear-regression/)\n",
    "* Dario Radečić: [Multiple Regression from Scratch in Numpy](https://towardsdatascience.com/multiple-linear-regression-from-scratch-in-numpy-36a3e8ac8014)"
   ]
  },
  {
   "cell_type": "code",
   "execution_count": null,
   "metadata": {},
   "outputs": [],
   "source": []
  }
 ],
 "metadata": {
  "kernelspec": {
   "display_name": "Python 3",
   "language": "python",
   "name": "python3"
  },
  "language_info": {
   "codemirror_mode": {
    "name": "ipython",
    "version": 3
   },
   "file_extension": ".py",
   "mimetype": "text/x-python",
   "name": "python",
   "nbconvert_exporter": "python",
   "pygments_lexer": "ipython3",
   "version": "3.7.1"
  }
 },
 "nbformat": 4,
 "nbformat_minor": 2
}
